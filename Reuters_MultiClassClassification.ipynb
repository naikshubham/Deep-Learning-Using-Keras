{
 "cells": [
  {
   "cell_type": "markdown",
   "metadata": {},
   "source": [
    "# Classifying newswires: A multiclass classification on Reuters Dataset"
   ]
  },
  {
   "cell_type": "markdown",
   "metadata": {},
   "source": [
    "### Reuters Dataset\n",
    "\n",
    "- A set of short newswires and thier topics, published by Reuters in 1986. It's a widely used dataset for text classification.\n",
    "- There are 46 different topics; some topics are more represented than others, but each topic has atleast 10 examples in the training set.\n",
    "- This is a multiclass classification problem with 46 classes"
   ]
  },
  {
   "cell_type": "code",
   "execution_count": 102,
   "metadata": {},
   "outputs": [],
   "source": [
    "from keras.datasets import reuters\n",
    "import numpy as np\n",
    "from keras.utils.np_utils import to_categorical\n",
    "from keras import models\n",
    "from keras import layers\n",
    "from sklearn.model_selection import train_test_split\n",
    "import matplotlib.pyplot as plt\n",
    "import keras"
   ]
  },
  {
   "cell_type": "code",
   "execution_count": 52,
   "metadata": {},
   "outputs": [],
   "source": [
    "(train_data, train_labels), (test_data, test_labels) = reuters.load_data(num_words=10000)"
   ]
  },
  {
   "cell_type": "code",
   "execution_count": 53,
   "metadata": {},
   "outputs": [
    {
     "name": "stdout",
     "output_type": "stream",
     "text": [
      "train data size -> 8982\n",
      "test data size-> 2246\n"
     ]
    }
   ],
   "source": [
    "print('train data size ->',f'{len(train_data)}')\n",
    "print('test data size->',f'{len(test_data)}')"
   ]
  },
  {
   "cell_type": "markdown",
   "metadata": {},
   "source": [
    "### Preparing the data\n",
    "\n",
    "- Vectorize the data\n"
   ]
  },
  {
   "cell_type": "code",
   "execution_count": 54,
   "metadata": {},
   "outputs": [],
   "source": [
    "def vectorize_sequences(sequences, dimensions=10000):\n",
    "    results = np.zeros((len(sequences), dimensions))\n",
    "    for i, sequence in enumerate(sequences):\n",
    "        results[i, sequence] = 1\n",
    "    return results\n",
    "\n",
    "x_train = vectorize_sequences(train_data)\n",
    "x_test = vectorize_sequences(test_data)"
   ]
  },
  {
   "cell_type": "markdown",
   "metadata": {},
   "source": [
    "### One-hot encode the labels"
   ]
  },
  {
   "cell_type": "code",
   "execution_count": 26,
   "metadata": {},
   "outputs": [],
   "source": [
    "one_hot_train_labels = to_categorical(train_labels)\n",
    "one_hot_test_labels = to_categorical(test_labels)"
   ]
  },
  {
   "cell_type": "markdown",
   "metadata": {},
   "source": [
    "### Split the data into train, vlidation and test sets"
   ]
  },
  {
   "cell_type": "code",
   "execution_count": 85,
   "metadata": {},
   "outputs": [],
   "source": [
    "X_train, X_val, Y_train, Y_val = train_test_split(x_train, one_hot_train_labels, test_size = 0.2, random_state = 12345)"
   ]
  },
  {
   "cell_type": "code",
   "execution_count": 147,
   "metadata": {},
   "outputs": [
    {
     "name": "stdout",
     "output_type": "stream",
     "text": [
      "(7185, 10000)\n",
      "(7185, 46)\n",
      "(1797, 10000)\n",
      "(1797, 46)\n"
     ]
    }
   ],
   "source": [
    "print(X_train.shape)\n",
    "print(Y_train.shape)\n",
    "print(X_val.shape)\n",
    "print(Y_val.shape)\n",
    "del model"
   ]
  },
  {
   "cell_type": "markdown",
   "metadata": {},
   "source": [
    "## Build the network"
   ]
  },
  {
   "cell_type": "code",
   "execution_count": 148,
   "metadata": {},
   "outputs": [],
   "source": [
    "model = models.Sequential()\n",
    "model.add(layers.Dense(64, activation='relu', input_shape=(10000,)))\n",
    "model.add(layers.Dense(64, activation='relu'))\n",
    "model.add(layers.Dense(46, activation='softmax'))"
   ]
  },
  {
   "cell_type": "code",
   "execution_count": 149,
   "metadata": {},
   "outputs": [
    {
     "name": "stdout",
     "output_type": "stream",
     "text": [
      "Train on 7185 samples, validate on 1797 samples\n",
      "Epoch 1/9\n",
      "7185/7185 [==============================] - 4s 610us/step - loss: 2.2689 - acc: 0.5388 - val_loss: 1.3580 - val_acc: 0.6917\n",
      "Epoch 2/9\n",
      "7185/7185 [==============================] - 1s 203us/step - loss: 1.0834 - acc: 0.7606 - val_loss: 1.0570 - val_acc: 0.7641\n",
      "Epoch 3/9\n",
      "7185/7185 [==============================] - 2s 214us/step - loss: 0.6767 - acc: 0.8554 - val_loss: 0.9299 - val_acc: 0.7997\n",
      "Epoch 4/9\n",
      "7185/7185 [==============================] - 1s 207us/step - loss: 0.4327 - acc: 0.9106 - val_loss: 0.8924 - val_acc: 0.8024\n",
      "Epoch 5/9\n",
      "7185/7185 [==============================] - 2s 214us/step - loss: 0.2901 - acc: 0.9368 - val_loss: 0.8706 - val_acc: 0.8125\n",
      "Epoch 6/9\n",
      "7185/7185 [==============================] - 1s 198us/step - loss: 0.2290 - acc: 0.9499 - val_loss: 0.8811 - val_acc: 0.8091\n",
      "Epoch 7/9\n",
      "7185/7185 [==============================] - 1s 193us/step - loss: 0.1854 - acc: 0.9557 - val_loss: 0.9255 - val_acc: 0.8102\n",
      "Epoch 8/9\n",
      "7185/7185 [==============================] - 1s 193us/step - loss: 0.1640 - acc: 0.9566 - val_loss: 0.9377 - val_acc: 0.8091\n",
      "Epoch 9/9\n",
      "7185/7185 [==============================] - 1s 195us/step - loss: 0.1545 - acc: 0.9596 - val_loss: 0.9758 - val_acc: 0.8041\n"
     ]
    }
   ],
   "source": [
    "adam = keras.optimizers.Adam(lr=0.001)\n",
    "\n",
    "model.compile(optimizer=adam,\n",
    "              loss='categorical_crossentropy',\n",
    "              metrics = ['accuracy'])\n",
    "history = model.fit(X_train, Y_train, epochs=9, batch_size=128, validation_data=(X_val, Y_val))"
   ]
  },
  {
   "cell_type": "code",
   "execution_count": 150,
   "metadata": {},
   "outputs": [],
   "source": [
    "def plt_dynamic(x, vy, ty, ax, colors=['b']):\n",
    "    ax.plot(x, vy, 'b', label=\"Validation Loss\")\n",
    "    ax.plot(x, ty, 'r', label=\"Train Loss\")\n",
    "    plt.legend()\n",
    "    plt.grid()\n",
    "    fig.canvas.draw()"
   ]
  },
  {
   "cell_type": "code",
   "execution_count": 151,
   "metadata": {},
   "outputs": [
    {
     "name": "stdout",
     "output_type": "stream",
     "text": [
      "Test score: 1.0871831496061222\n",
      "Test accuracy: 0.7791629563668745\n"
     ]
    },
    {
     "data": {
      "image/png": "[encoded data removed]",
      "text/plain": [
       "<Figure size 432x288 with 1 Axes>"
      ]
     },
     "metadata": {},
     "output_type": "display_data"
    }
   ],
   "source": [
    "score = model.evaluate(X_test, Y_test, verbose=2) \n",
    "print('Test score:', score[0]) \n",
    "print('Test accuracy:', score[1])\n",
    "\n",
    "fig,ax = plt.subplots(1,1)\n",
    "ax.set_xlabel('epoch') ;\n",
    "ax.set_ylabel('Categorical Crossentropy Loss')\n",
    "\n",
    "# list of epoch numbers\n",
    "x = list(range(1,9+1))\n",
    "# x = list(range(1,es.stopped_epoch+2))\n",
    "\n",
    "vy = history.history['val_loss']\n",
    "ty = history.history['loss']\n",
    "plt_dynamic(x, vy, ty, ax)"
   ]
  },
  {
   "cell_type": "markdown",
   "metadata": {},
   "source": [
    "# USing Machine Learning Models"
   ]
  },
  {
   "cell_type": "code",
   "execution_count": 157,
   "metadata": {},
   "outputs": [],
   "source": [
    "from sklearn.multiclass import OneVsRestClassifier\n",
    "from sklearn.svm import LinearSVC\n",
    "from sklearn.externals import joblib\n",
    "from sklearn.externals.joblib import load\n",
    "from sklearn.metrics import confusion_matrix, accuracy_score\n",
    "from sklearn.preprocessing import StandardScaler"
   ]
  },
  {
   "cell_type": "code",
   "execution_count": 159,
   "metadata": {},
   "outputs": [
    {
     "name": "stderr",
     "output_type": "stream",
     "text": [
      "C:\\Users\\Shubham\\.conda\\envs\\shub\\lib\\site-packages\\sklearn\\svm\\base.py:931: ConvergenceWarning: Liblinear failed to converge, increase the number of iterations.\n",
      "  \"the number of iterations.\", ConvergenceWarning)\n",
      "C:\\Users\\Shubham\\.conda\\envs\\shub\\lib\\site-packages\\sklearn\\svm\\base.py:931: ConvergenceWarning: Liblinear failed to converge, increase the number of iterations.\n",
      "  \"the number of iterations.\", ConvergenceWarning)\n"
     ]
    },
    {
     "data": {
      "text/plain": [
       "['D:/Projects/keras/Reuters_MulticlassClassification/svm_v1_lin_mod.sav']"
      ]
     },
     "execution_count": 159,
     "metadata": {},
     "output_type": "execute_result"
    }
   ],
   "source": [
    "scaler = StandardScaler()\n",
    "scaler.fit(X_train)\n",
    "clf = OneVsRestClassifier(LinearSVC(penalty='l2', \n",
    "                                    loss = 'hinge',\n",
    "                                    max_iter = 2000,\n",
    "                                    random_state=0)).fit(X_train, Y_train)\n",
    "filename = 'D:/Projects/keras/Reuters_MulticlassClassification/svm_v1_lin_mod.sav'\n",
    "joblib.dump(clf, filename)"
   ]
  },
  {
   "cell_type": "markdown",
   "metadata": {},
   "source": [
    "### Performance metrics"
   ]
  },
  {
   "cell_type": "code",
   "execution_count": 171,
   "metadata": {},
   "outputs": [
    {
     "name": "stdout",
     "output_type": "stream",
     "text": [
      "0.7003561887800535\n",
      "0.7003561887800535\n"
     ]
    }
   ],
   "source": [
    "svmmodel = load(filename)\n",
    "scaler.fit(X_test)\n",
    "result = svmmodel.score(X_test, Y_test)\n",
    "print(result)\n",
    "\n",
    "# For calculating Confusion matrix and accuracy\n",
    "pred_array = svmmodel.predict(X_test)\n",
    "print(accuracy_score(Y_test, pred_array))\n",
    "# print(pred_array)"
   ]
  },
  {
   "cell_type": "code",
   "execution_count": 170,
   "metadata": {},
   "outputs": [
    {
     "name": "stdout",
     "output_type": "stream",
     "text": [
      "[[ 8  1  0 ...  0  0  0]\n",
      " [26 67  0 ...  0  0  0]\n",
      " [ 6  0 13 ...  0  0  0]\n",
      " ...\n",
      " [ 4  0  0 ...  2  0  0]\n",
      " [ 1  0  0 ...  0  4  0]\n",
      " [ 0  0  0 ...  0  0  1]]\n"
     ]
    }
   ],
   "source": [
    "print(confusion_matrix(Y_test.argmax(axis=1), pred_array.argmax(axis=1)))\n",
    "# import pandas as pd\n",
    "# y_test = pd.Series(Y_test)"
   ]
  }
 ],
 "metadata": {
  "kernelspec": {
   "display_name": "Python 3",
   "language": "python",
   "name": "python3"
  },
  "language_info": {
   "codemirror_mode": {
    "name": "ipython",
    "version": 3
   },
   "file_extension": ".py",
   "mimetype": "text/x-python",
   "name": "python",
   "nbconvert_exporter": "python",
   "pygments_lexer": "ipython3",
   "version": "3.7.3"
  }
 },
 "nbformat": 4,
 "nbformat_minor": 2
}
